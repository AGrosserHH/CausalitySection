{
 "cells": [
  {
   "cell_type": "code",
   "execution_count": 6,
   "id": "aa6263c6-a765-47f4-87ac-0d64cec439ca",
   "metadata": {},
   "outputs": [],
   "source": [
    "import numpy as np\n",
    "import pandas as pd\n",
    "import networkx as nx\n",
    "import matplotlib.pyplot as plt\n",
    "import seaborn as sns\n",
    "from dowhy import gcm"
   ]
  },
  {
   "cell_type": "code",
   "execution_count": 7,
   "id": "1671c13a-06dc-4235-9287-5919f790ae72",
   "metadata": {},
   "outputs": [],
   "source": [
    "n = 100"
   ]
  },
  {
   "cell_type": "code",
   "execution_count": 8,
   "id": "63003986-2c38-4bfe-87e8-6241dbd89e48",
   "metadata": {},
   "outputs": [],
   "source": [
    "index=range(0,n)\n",
    "columns=['A', 'B', 'C']\n",
    "df = pd.DataFrame(index=index, columns=columns)"
   ]
  },
  {
   "cell_type": "code",
   "execution_count": 9,
   "id": "130ac7a0-8e99-44fb-9fb2-0ad8270980e8",
   "metadata": {},
   "outputs": [],
   "source": [
    "df['A'] = np.random.normal(loc=40,scale=25,size=n)\n",
    "df['B'] = df['A']*.3 * np.random.normal(loc=1000,scale=250,size=n)\n",
    "df['C'] = .2 * df['A'] + .5 * df['B']"
   ]
  },
  {
   "cell_type": "code",
   "execution_count": 10,
   "id": "77d722cf-811c-4cc8-8ce1-849e24a37aab",
   "metadata": {},
   "outputs": [
    {
     "data": {
      "text/html": [
       "<div>\n",
       "<style scoped>\n",
       "    .dataframe tbody tr th:only-of-type {\n",
       "        vertical-align: middle;\n",
       "    }\n",
       "\n",
       "    .dataframe tbody tr th {\n",
       "        vertical-align: top;\n",
       "    }\n",
       "\n",
       "    .dataframe thead th {\n",
       "        text-align: right;\n",
       "    }\n",
       "</style>\n",
       "<table border=\"1\" class=\"dataframe\">\n",
       "  <thead>\n",
       "    <tr style=\"text-align: right;\">\n",
       "      <th></th>\n",
       "      <th>A</th>\n",
       "      <th>B</th>\n",
       "      <th>C</th>\n",
       "    </tr>\n",
       "  </thead>\n",
       "  <tbody>\n",
       "    <tr>\n",
       "      <th>0</th>\n",
       "      <td>44.259456</td>\n",
       "      <td>7887.763427</td>\n",
       "      <td>3952.733604</td>\n",
       "    </tr>\n",
       "    <tr>\n",
       "      <th>1</th>\n",
       "      <td>2.805741</td>\n",
       "      <td>737.241504</td>\n",
       "      <td>369.181900</td>\n",
       "    </tr>\n",
       "    <tr>\n",
       "      <th>2</th>\n",
       "      <td>61.161541</td>\n",
       "      <td>11917.437639</td>\n",
       "      <td>5970.951127</td>\n",
       "    </tr>\n",
       "    <tr>\n",
       "      <th>3</th>\n",
       "      <td>67.115776</td>\n",
       "      <td>22925.471567</td>\n",
       "      <td>11476.158939</td>\n",
       "    </tr>\n",
       "    <tr>\n",
       "      <th>4</th>\n",
       "      <td>76.158997</td>\n",
       "      <td>14282.832611</td>\n",
       "      <td>7156.648105</td>\n",
       "    </tr>\n",
       "  </tbody>\n",
       "</table>\n",
       "</div>"
      ],
      "text/plain": [
       "           A             B             C\n",
       "0  44.259456   7887.763427   3952.733604\n",
       "1   2.805741    737.241504    369.181900\n",
       "2  61.161541  11917.437639   5970.951127\n",
       "3  67.115776  22925.471567  11476.158939\n",
       "4  76.158997  14282.832611   7156.648105"
      ]
     },
     "execution_count": 10,
     "metadata": {},
     "output_type": "execute_result"
    }
   ],
   "source": [
    "df.head()"
   ]
  },
  {
   "cell_type": "code",
   "execution_count": 11,
   "id": "f42ee642-ea1d-4a0a-8ccf-a920c66321a3",
   "metadata": {},
   "outputs": [],
   "source": [
    "import dowhy\n",
    "from dowhy import CausalModel"
   ]
  },
  {
   "cell_type": "code",
   "execution_count": 13,
   "id": "1935fe9c",
   "metadata": {},
   "outputs": [],
   "source": [
    "# I. Create a causal model from the data and given graph.\n",
    "causal_graph = \"\"\"\n",
    "digraph {\n",
    "A;\n",
    "B;\n",
    "C;\n",
    "A -> C; \n",
    "A -> B; \n",
    "B -> C;\n",
    "}\n",
    "\n",
    "\n",
    "\"\"\""
   ]
  },
  {
   "cell_type": "code",
   "execution_count": 16,
   "id": "87a13a1e",
   "metadata": {},
   "outputs": [
    {
     "data": {
      "image/png": "[encoded data removed]",
      "text/plain": [
       "<Figure size 800x600 with 1 Axes>"
      ]
     },
     "metadata": {},
     "output_type": "display_data"
    }
   ],
   "source": [
    "model= CausalModel(\n",
    "        data = df,\n",
    "        graph=causal_graph.replace(\"\\n\", \" \"),\n",
    "        treatment='A',\n",
    "        outcome='C')\n",
    "model.view_model()"
   ]
  },
  {
   "cell_type": "code",
   "execution_count": 17,
   "id": "94c2e225",
   "metadata": {},
   "outputs": [
    {
     "name": "stdout",
     "output_type": "stream",
     "text": [
      "Estimand type: EstimandType.NONPARAMETRIC_ATE\n",
      "\n",
      "### Estimand : 1\n",
      "Estimand name: backdoor\n",
      "Estimand expression:\n",
      " d        \n",
      "────(E[C])\n",
      "d[A]      \n",
      "Estimand assumption 1, Unconfoundedness: If U→{A} and U→C then P(C|A,,U) = P(C|A,)\n",
      "\n",
      "### Estimand : 2\n",
      "Estimand name: iv\n",
      "No such variable(s) found!\n",
      "\n",
      "### Estimand : 3\n",
      "Estimand name: frontdoor\n",
      "No such variable(s) found!\n",
      "\n"
     ]
    }
   ],
   "source": [
    "# II. Identify causal effect and return target estimands\n",
    "identified_estimand = model.identify_effect()\n",
    "print(identified_estimand)"
   ]
  },
  {
   "cell_type": "code",
   "execution_count": 20,
   "id": "a91f3688",
   "metadata": {},
   "outputs": [
    {
     "name": "stdout",
     "output_type": "stream",
     "text": [
      "*** Causal Estimate ***\n",
      "\n",
      "## Identified estimand\n",
      "Estimand type: EstimandType.NONPARAMETRIC_ATE\n",
      "\n",
      "### Estimand : 1\n",
      "Estimand name: backdoor\n",
      "Estimand expression:\n",
      " d        \n",
      "────(E[C])\n",
      "d[A]      \n",
      "Estimand assumption 1, Unconfoundedness: If U→{A} and U→C then P(C|A,,U) = P(C|A,)\n",
      "\n",
      "## Realized estimand\n",
      "b: C~A\n",
      "Target units: ate\n",
      "\n",
      "## Estimate\n",
      "Mean value: 135.84445591362666\n",
      "\n"
     ]
    }
   ],
   "source": [
    "# III. Estimate the target estimand using a statistical method.\n",
    "estimate = model.estimate_effect(identified_estimand,method_name=\"backdoor.linear_regression\",)\n",
    "print(estimate)"
   ]
  },
  {
   "cell_type": "code",
   "execution_count": 21,
   "id": "d226e749",
   "metadata": {},
   "outputs": [],
   "source": [
    "from sklearn.linear_model import LinearRegression"
   ]
  },
  {
   "cell_type": "code",
   "execution_count": 23,
   "id": "b2524398",
   "metadata": {},
   "outputs": [],
   "source": [
    "X = df[['B', 'A']]\n",
    "y = df['C']\n",
    "\n",
    "reg = LinearRegression().fit(X, y)"
   ]
  },
  {
   "cell_type": "code",
   "execution_count": 24,
   "id": "e8674cfd",
   "metadata": {},
   "outputs": [
    {
     "data": {
      "image/png": "[encoded data removed]",
      "text/latex": [
       "$\\displaystyle 1.0$"
      ],
      "text/plain": [
       "1.0"
      ]
     },
     "execution_count": 24,
     "metadata": {},
     "output_type": "execute_result"
    }
   ],
   "source": [
    "reg.score(X, y)"
   ]
  },
  {
   "cell_type": "code",
   "execution_count": 25,
   "id": "edf8d94d",
   "metadata": {},
   "outputs": [
    {
     "data": {
      "text/plain": [
       "{'copy_X': True, 'fit_intercept': True, 'n_jobs': None, 'positive': False}"
      ]
     },
     "execution_count": 25,
     "metadata": {},
     "output_type": "execute_result"
    }
   ],
   "source": [
    "reg.get_params()"
   ]
  },
  {
   "cell_type": "code",
   "execution_count": 28,
   "id": "b9c6c933",
   "metadata": {},
   "outputs": [
    {
     "name": "stdout",
     "output_type": "stream",
     "text": [
      "0.0 [0.5 0.2]\n"
     ]
    }
   ],
   "source": [
    "print (reg.intercept_, reg.coef_)"
   ]
  },
  {
   "cell_type": "code",
   "execution_count": 31,
   "id": "e9cbc374",
   "metadata": {},
   "outputs": [
    {
     "data": {
      "image/png": "[encoded data removed]",
      "text/latex": [
       "$\\displaystyle 5188.9999047644$"
      ],
      "text/plain": [
       "5188.999904764398"
      ]
     },
     "execution_count": 31,
     "metadata": {},
     "output_type": "execute_result"
    }
   ],
   "source": [
    "np.mean(reg.predict(X))"
   ]
  },
  {
   "cell_type": "code",
   "execution_count": null,
   "id": "1a1d8559",
   "metadata": {},
   "outputs": [],
   "source": []
  }
 ],
 "metadata": {
  "kernelspec": {
   "display_name": "Python 3 (ipykernel)",
   "language": "python",
   "name": "python3"
  },
  "language_info": {
   "codemirror_mode": {
    "name": "ipython",
    "version": 3
   },
   "file_extension": ".py",
   "mimetype": "text/x-python",
   "name": "python",
   "nbconvert_exporter": "python",
   "pygments_lexer": "ipython3",
   "version": "3.8.0"
  }
 },
 "nbformat": 4,
 "nbformat_minor": 5
}
